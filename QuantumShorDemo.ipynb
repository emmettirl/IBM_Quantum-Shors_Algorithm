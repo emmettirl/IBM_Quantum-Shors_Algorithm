{
 "cells": [
  {
   "metadata": {},
   "cell_type": "markdown",
   "source": [
    "# Shor's Algorithm (Adapted from Qiskit Textbook) \n",
    "https://github.com/Qiskit/textbook/blob/main/notebooks/ch-algorithms/shor.ipynb"
   ],
   "id": "5fdf4e253a0c4f1d"
  },
  {
   "metadata": {},
   "cell_type": "markdown",
   "source": "## 1: imports",
   "id": "9af30d67ef38ee54"
  },
  {
   "metadata": {
    "ExecuteTime": {
     "end_time": "2024-04-15T23:17:46.274976Z",
     "start_time": "2024-04-15T23:17:44.129725Z"
    }
   },
   "cell_type": "code",
   "source": [
    "from qiskit import QuantumCircuit\n",
    "from qiskit.quantum_info import SparsePauliOp\n",
    "from qiskit.transpiler.preset_passmanagers import generate_preset_pass_manager\n",
    "from qiskit_ibm_runtime import QiskitRuntimeService, EstimatorV2 as Estimator\n",
    "\n",
    "# pylint: disable=invalid-name\n",
    "import matplotlib.pyplot as plt\n",
    "import numpy as np\n",
    "from qiskit import QuantumCircuit, transpile\n",
    "from qiskit_aer import Aer\n",
    "from qiskit.visualization import plot_histogram\n",
    "from math import gcd\n",
    "from numpy.random import randint\n",
    "import pandas as pd\n",
    "from fractions import Fraction\n",
    "\n",
    "print(\"Imports Successful\")"
   ],
   "id": "58853d6b01ff20e6",
   "outputs": [
    {
     "name": "stdout",
     "output_type": "stream",
     "text": [
      "Imports Successful\n"
     ]
    }
   ],
   "execution_count": 1
  },
  {
   "metadata": {},
   "cell_type": "markdown",
   "source": [
    "## 2: Building the circuits for shor's algorithm\n",
    " "
   ],
   "id": "66cad2cf141cef53"
  },
  {
   "metadata": {
    "ExecuteTime": {
     "end_time": "2024-04-15T23:17:46.278772Z",
     "start_time": "2024-04-15T23:17:46.275972Z"
    }
   },
   "cell_type": "code",
   "source": [
    "# Specify variables\n",
    "N_COUNT = 3  # number of counting qubits\n",
    "a = 7\n",
    "U_COUNT = 4\n",
    "N=11"
   ],
   "id": "d15e49a70289b550",
   "outputs": [],
   "execution_count": 2
  },
  {
   "metadata": {
    "ExecuteTime": {
     "end_time": "2024-04-15T23:17:46.285307Z",
     "start_time": "2024-04-15T23:17:46.279323Z"
    }
   },
   "cell_type": "code",
   "source": [
    "def c_amod15(a, power):\n",
    "    \"\"\"Controlled multiplication by a mod 15\"\"\"\n",
    "    if a not in [2,4,7,8,11,13]:\n",
    "        raise ValueError(\"'a' must be 2,4,7,8,11 or 13\")\n",
    "    U = QuantumCircuit(U_COUNT)\n",
    "    for _iteration in range(power):\n",
    "        if a in [2,13]:\n",
    "            U.swap(2,3)\n",
    "            U.swap(1,2)\n",
    "            U.swap(0,1)\n",
    "        if a in [7,8]:\n",
    "            U.swap(0,1)\n",
    "            U.swap(1,2)\n",
    "            U.swap(2,3)\n",
    "        if a in [4, 11]:\n",
    "            U.swap(1,3)\n",
    "            U.swap(0,2)\n",
    "        if a in [7,11,13]:\n",
    "            for q in range(4):\n",
    "                U.x(q)\n",
    "    U = U.to_gate()\n",
    "    U.name = f\"{a}^{power} mod 15\"\n",
    "    c_U = U.control()\n",
    "    return c_U"
   ],
   "id": "5ec80b2aaec78006",
   "outputs": [],
   "execution_count": 3
  },
  {
   "metadata": {},
   "cell_type": "markdown",
   "source": "## 3: implementing the quantum fourier transform",
   "id": "df356146155f5e"
  },
  {
   "metadata": {
    "ExecuteTime": {
     "end_time": "2024-04-15T23:17:46.290607Z",
     "start_time": "2024-04-15T23:17:46.286309Z"
    }
   },
   "cell_type": "code",
   "source": [
    "def qft_dagger(n):\n",
    "    \"\"\"n-qubit QFTdagger the first n qubits in circ\"\"\"\n",
    "    qc = QuantumCircuit(n)\n",
    "    # Don't forget the Swaps!\n",
    "    for qubit in range(n // 2):\n",
    "        qc.swap(qubit, n - qubit - 1)\n",
    "    for j in range(n):\n",
    "        for m in range(j):\n",
    "            qc.cp(-np.pi / float(2 ** (j - m)), m, j)\n",
    "        qc.h(j)\n",
    "    qc.name = \"QFT†\"\n",
    "    return qc"
   ],
   "id": "db415416f61ca487",
   "outputs": [],
   "execution_count": 4
  },
  {
   "metadata": {},
   "cell_type": "markdown",
   "source": "## 4: Building the circuit",
   "id": "bf6447b3a3263909"
  },
  {
   "metadata": {
    "ExecuteTime": {
     "end_time": "2024-04-15T23:17:46.319885Z",
     "start_time": "2024-04-15T23:17:46.291585Z"
    }
   },
   "cell_type": "code",
   "source": [
    "# Create QuantumCircuit with N_COUNT counting qubits\n",
    "# plus 4 qubits for U to act on\n",
    "qc = QuantumCircuit(N_COUNT + U_COUNT, N_COUNT)\n",
    "\n",
    "# Initialize counting qubits\n",
    "# in state |+>\n",
    "for q in range(N_COUNT):\n",
    "    qc.h(q)\n",
    "\n",
    "# And auxiliary register in state |1>\n",
    "qc.x(N_COUNT)\n",
    "\n",
    "# Do controlled-U operations\n",
    "for q in range(N_COUNT):\n",
    "    qc.append(c_amod15(a, 2**q),\n",
    "             [q] + [i+N_COUNT for i in range(U_COUNT)])\n",
    "\n",
    "# Do inverse-QFT\n",
    "qc.append(qft_dagger(N_COUNT), range(N_COUNT))\n",
    "\n",
    "# Measure circuit\n",
    "qc.measure(range(N_COUNT), range(N_COUNT))\n",
    "qc.draw(fold=-1)  # -1 means 'do not fold'"
   ],
   "id": "71bf74f7b47d02e8",
   "outputs": [
    {
     "data": {
      "text/plain": [
       "     ┌───┐                                             ┌───────┐┌─┐      \n",
       "q_0: ┤ H ├───────■─────────────────────────────────────┤0      ├┤M├──────\n",
       "     ├───┤       │                                     │       │└╥┘┌─┐   \n",
       "q_1: ┤ H ├───────┼──────────────■──────────────────────┤1 QFT† ├─╫─┤M├───\n",
       "     ├───┤       │              │                      │       │ ║ └╥┘┌─┐\n",
       "q_2: ┤ H ├───────┼──────────────┼──────────────■───────┤2      ├─╫──╫─┤M├\n",
       "     ├───┤┌──────┴──────┐┌──────┴──────┐┌──────┴──────┐└───────┘ ║  ║ └╥┘\n",
       "q_3: ┤ X ├┤0            ├┤0            ├┤0            ├──────────╫──╫──╫─\n",
       "     └───┘│             ││             ││             │          ║  ║  ║ \n",
       "q_4: ─────┤1            ├┤1            ├┤1            ├──────────╫──╫──╫─\n",
       "          │  7^1 mod 15 ││  7^2 mod 15 ││  7^4 mod 15 │          ║  ║  ║ \n",
       "q_5: ─────┤2            ├┤2            ├┤2            ├──────────╫──╫──╫─\n",
       "          │             ││             ││             │          ║  ║  ║ \n",
       "q_6: ─────┤3            ├┤3            ├┤3            ├──────────╫──╫──╫─\n",
       "          └─────────────┘└─────────────┘└─────────────┘          ║  ║  ║ \n",
       "c: 3/════════════════════════════════════════════════════════════╩══╩══╩═\n",
       "                                                                 0  1  2 "
      ],
      "text/html": [
       "<pre style=\"word-wrap: normal;white-space: pre;background: #fff0;line-height: 1.1;font-family: &quot;Courier New&quot;,Courier,monospace\">     ┌───┐                                             ┌───────┐┌─┐      \n",
       "q_0: ┤ H ├───────■─────────────────────────────────────┤0      ├┤M├──────\n",
       "     ├───┤       │                                     │       │└╥┘┌─┐   \n",
       "q_1: ┤ H ├───────┼──────────────■──────────────────────┤1 QFT† ├─╫─┤M├───\n",
       "     ├───┤       │              │                      │       │ ║ └╥┘┌─┐\n",
       "q_2: ┤ H ├───────┼──────────────┼──────────────■───────┤2      ├─╫──╫─┤M├\n",
       "     ├───┤┌──────┴──────┐┌──────┴──────┐┌──────┴──────┐└───────┘ ║  ║ └╥┘\n",
       "q_3: ┤ X ├┤0            ├┤0            ├┤0            ├──────────╫──╫──╫─\n",
       "     └───┘│             ││             ││             │          ║  ║  ║ \n",
       "q_4: ─────┤1            ├┤1            ├┤1            ├──────────╫──╫──╫─\n",
       "          │  7^1 mod 15 ││  7^2 mod 15 ││  7^4 mod 15 │          ║  ║  ║ \n",
       "q_5: ─────┤2            ├┤2            ├┤2            ├──────────╫──╫──╫─\n",
       "          │             ││             ││             │          ║  ║  ║ \n",
       "q_6: ─────┤3            ├┤3            ├┤3            ├──────────╫──╫──╫─\n",
       "          └─────────────┘└─────────────┘└─────────────┘          ║  ║  ║ \n",
       "c: 3/════════════════════════════════════════════════════════════╩══╩══╩═\n",
       "                                                                 0  1  2 </pre>"
      ]
     },
     "execution_count": 5,
     "metadata": {},
     "output_type": "execute_result"
    }
   ],
   "execution_count": 5
  },
  {
   "metadata": {},
   "cell_type": "markdown",
   "source": "## 5: Running on simulator:",
   "id": "f805da01000e8137"
  },
  {
   "metadata": {
    "ExecuteTime": {
     "end_time": "2024-04-15T23:17:46.498152Z",
     "start_time": "2024-04-15T23:17:46.320876Z"
    }
   },
   "cell_type": "code",
   "source": [
    "backend = Aer.get_backend('aer_simulator')\n",
    "t_qc = transpile(qc, backend)\n",
    "counts = backend.run(t_qc).result().get_counts()\n",
    "plot_histogram(counts)"
   ],
   "id": "d11d4e14ecfe58bc",
   "outputs": [
    {
     "data": {
      "text/plain": [
       "<Figure size 700x500 with 1 Axes>"
      ],
      "image/png": "[encoded data removed]"
     },
     "execution_count": 6,
     "metadata": {},
     "output_type": "execute_result"
    }
   ],
   "execution_count": 6
  },
  {
   "metadata": {
    "ExecuteTime": {
     "end_time": "2024-04-15T23:17:46.505996Z",
     "start_time": "2024-04-15T23:17:46.499142Z"
    }
   },
   "cell_type": "code",
   "source": [
    "rows, measured_phases = [], []\n",
    "for output in counts:\n",
    "    decimal = int(output, 2)  # Convert (base 2) string to decimal\n",
    "    phase = decimal/(2**N_COUNT)  # Find corresponding eigenvalue\n",
    "    measured_phases.append(phase)\n",
    "    # Add these values to the rows in our table:\n",
    "    rows.append([f\"{output}(bin) = {decimal:>3}(dec)\",\n",
    "                 f\"{decimal}/{2**N_COUNT} = {phase:.2f}\"])\n",
    "# Print the rows in a table\n",
    "headers=[\"Register Output\", \"Phase\"]\n",
    "df = pd.DataFrame(rows, columns=headers)\n",
    "print(df)"
   ],
   "id": "8b5393fc8519f346",
   "outputs": [
    {
     "name": "stdout",
     "output_type": "stream",
     "text": [
      "       Register Output       Phase\n",
      "0  110(bin) =   6(dec)  6/8 = 0.75\n",
      "1  000(bin) =   0(dec)  0/8 = 0.00\n",
      "2  010(bin) =   2(dec)  2/8 = 0.25\n",
      "3  100(bin) =   4(dec)  4/8 = 0.50\n"
     ]
    }
   ],
   "execution_count": 7
  },
  {
   "metadata": {
    "ExecuteTime": {
     "end_time": "2024-04-15T23:17:46.512568Z",
     "start_time": "2024-04-15T23:17:46.506977Z"
    }
   },
   "cell_type": "code",
   "source": [
    "rows = []\n",
    "for phase in measured_phases:\n",
    "    frac = Fraction(phase).limit_denominator(15)\n",
    "    rows.append([phase,\n",
    "                 f\"{frac.numerator}/{frac.denominator}\",\n",
    "                 frac.denominator])\n",
    "# Print as a table\n",
    "headers=[\"Phase\", \"Fraction\", \"Guess for r\"]\n",
    "df = pd.DataFrame(rows, columns=headers)\n",
    "print(df)"
   ],
   "id": "36aa2336c5bc71db",
   "outputs": [
    {
     "name": "stdout",
     "output_type": "stream",
     "text": [
      "   Phase Fraction  Guess for r\n",
      "0   0.75      3/4            4\n",
      "1   0.00      0/1            1\n",
      "2   0.25      1/4            4\n",
      "3   0.50      1/2            2\n"
     ]
    }
   ],
   "execution_count": 8
  },
  {
   "metadata": {},
   "cell_type": "markdown",
   "source": "# Setting up real quantum hardware",
   "id": "180cd69af0b8643f"
  },
  {
   "metadata": {},
   "cell_type": "markdown",
   "source": "### getting API Object",
   "id": "484d03c7c6db2860"
  },
  {
   "metadata": {
    "ExecuteTime": {
     "end_time": "2024-04-15T23:18:00.746710Z",
     "start_time": "2024-04-15T23:17:46.513654Z"
    }
   },
   "cell_type": "code",
   "source": [
    "service = QiskitRuntimeService(channel=\"ibm_quantum\", token=\"YOUR-PERSONAL-ACCESS-TOKEN\")\n",
    "# Run on the least-busy backend you have access to\n",
    "backend = service.least_busy(simulator=False, operational=True)\n"
   ],
   "id": "f09d470063440e05",
   "outputs": [],
   "execution_count": 9
  },
  {
   "metadata": {},
   "cell_type": "markdown",
   "source": "### converting circuit to ISA",
   "id": "497ee88a8c6f0300"
  },
  {
   "metadata": {
    "ExecuteTime": {
     "end_time": "2024-04-15T23:18:36.278852Z",
     "start_time": "2024-04-15T23:18:00.747705Z"
    }
   },
   "cell_type": "code",
   "source": [
    "# Convert to an ISA circuit and layout-mapped observables.\n",
    "pm = generate_preset_pass_manager(backend=backend, optimization_level=3)\n",
    "isa_circuit = pm.run(qc)\n",
    "isa_circuit.draw('mpl', idle_wires=False)\n",
    "print (\"Circuit converted to ISA successfully\")"
   ],
   "id": "15c1944596f56417",
   "outputs": [
    {
     "name": "stdout",
     "output_type": "stream",
     "text": [
      "Circuit converted to ISA successfully\n"
     ]
    }
   ],
   "execution_count": 10
  },
  {
   "metadata": {},
   "cell_type": "markdown",
   "source": "### Creating the Estimator",
   "id": "976b026cf7fe2773"
  },
  {
   "metadata": {
    "ExecuteTime": {
     "end_time": "2024-04-15T23:18:36.286504Z",
     "start_time": "2024-04-15T23:18:36.279847Z"
    }
   },
   "cell_type": "code",
   "source": [
    "# Construct the Estimator instance we want to use.\n",
    "\n",
    "# Set up observables for each qubit\n",
    "observables_labels = [\"Z\"*7 for _ in range(N_COUNT + U_COUNT)]\n",
    "observables = [SparsePauliOp(label) for label in observables_labels]\n",
    "\n",
    "observables = [\n",
    "    observable.apply_layout(isa_circuit.layout) for observable in observables\n",
    "]\n",
    "\n",
    "estimator = Estimator(backend)\n",
    "estimator.options.resilience_level = 1\n",
    "estimator.options.default_shots = 500\n"
   ],
   "id": "37280132e9c5fe75",
   "outputs": [],
   "execution_count": 11
  },
  {
   "metadata": {},
   "cell_type": "markdown",
   "source": "### Run the circuits",
   "id": "a1b7bfe1767b89a3"
  },
  {
   "metadata": {
    "ExecuteTime": {
     "end_time": "2024-04-16T00:18:13.554516Z",
     "start_time": "2024-04-15T23:18:36.287491Z"
    }
   },
   "cell_type": "code",
   "source": [
    "job = estimator.run([(isa_circuit, observables)])\n",
    "job_result = job.result()\n",
    "pub_result = job.result()[0]"
   ],
   "id": "902375251a9154aa",
   "outputs": [
    {
     "name": "stderr",
     "output_type": "stream",
     "text": [
      "D:\\Documents\\Code\\jetbrains\\pycharm\\quantumTesting\\.venv\\Lib\\site-packages\\qiskit_ibm_runtime\\qiskit_runtime_service.py:879: UserWarning: Your current pending jobs are estimated to consume 623.1034379365619 quantum seconds, but you only have 600 quantum seconds left in your monthly quota; therefore, it is likely this job will be canceled\n",
      "  warnings.warn(warning_message)\n"
     ]
    }
   ],
   "execution_count": 12
  },
  {
   "metadata": {
    "ExecuteTime": {
     "end_time": "2024-04-16T11:05:29.777480Z",
     "start_time": "2024-04-16T11:05:29.774784Z"
    }
   },
   "cell_type": "code",
   "source": [
    "r = pub_result.data.evs[0]\n",
    "print (r)"
   ],
   "id": "7ad3d3f1888a60b0",
   "outputs": [
    {
     "name": "stdout",
     "output_type": "stream",
     "text": [
      "-0.030418250950570342\n"
     ]
    }
   ],
   "execution_count": 44
  },
  {
   "metadata": {
    "ExecuteTime": {
     "end_time": "2024-04-16T11:05:32.497898Z",
     "start_time": "2024-04-16T11:05:32.494137Z"
    }
   },
   "cell_type": "code",
   "source": [
    "if int(r) % 2 != 0 or pow(a, int(r) // 2, N) == N - 1:\n",
    "    print(\"Failed to find a nontrivial factor, try again with a different random number a\")\n",
    "else:\n",
    "    factor1 = gcd(pow(a, int(r) // 2) - 1, N)\n",
    "    factor2 = gcd(pow(a, int(r) // 2) + 1, N)\n",
    "    print(f\"The factors of {N} are {factor1} and {factor2}\")"
   ],
   "id": "ffaf56bef10a7dc5",
   "outputs": [
    {
     "name": "stdout",
     "output_type": "stream",
     "text": [
      "The factors of 11 are 11 and 1\n"
     ]
    }
   ],
   "execution_count": 45
  }
 ],
 "metadata": {
  "kernelspec": {
   "display_name": "Python 3 (ipykernel)",
   "language": "python",
   "name": "python3"
  },
  "language_info": {
   "codemirror_mode": {
    "name": "ipython",
    "version": 3
   },
   "file_extension": ".py",
   "mimetype": "text/x-python",
   "name": "python",
   "nbconvert_exporter": "python",
   "pygments_lexer": "ipython3",
   "version": "3.11.2"
  }
 },
 "nbformat": 4,
 "nbformat_minor": 5
}
